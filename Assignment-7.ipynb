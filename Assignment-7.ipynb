{
 "cells": [
  {
   "cell_type": "markdown",
   "id": "04000ed6",
   "metadata": {},
   "source": [
    "**1. What is the name of the feature responsible for generating Regex objects?**"
   ]
  },
  {
   "cell_type": "markdown",
   "id": "686c32db",
   "metadata": {},
   "source": [
    "**re.compile()** is the feature responsible for generating Regex objects\n",
    "A RegEx, or Regular Expression, is a sequence of characters that forms a search pattern. RegEx can be used to check if a string contains the specified search pattern."
   ]
  },
  {
   "cell_type": "code",
   "execution_count": 1,
   "id": "32245c19",
   "metadata": {},
   "outputs": [
    {
     "name": "stdout",
     "output_type": "stream",
     "text": [
      "re.compile('Checking for regex objects')\n"
     ]
    }
   ],
   "source": [
    "import re\n",
    "str = re.compile(\"Checking for regex objects\")\n",
    "print(str)"
   ]
  },
  {
   "cell_type": "markdown",
   "id": "0e3508d9",
   "metadata": {},
   "source": [
    "**2. Why do raw strings often appear in Regex objects?**"
   ]
  },
  {
   "cell_type": "markdown",
   "id": "b3db1a5e",
   "metadata": {},
   "source": [
    "The raw string notation (r\"text\") keeps regular expressions meaningful and conclusion free hence they often appear in regex objects."
   ]
  },
  {
   "cell_type": "markdown",
   "id": "37aee089",
   "metadata": {},
   "source": [
    "**3. What is the return value of the search() method?**"
   ]
  },
  {
   "cell_type": "markdown",
   "id": "f5cb289c",
   "metadata": {},
   "source": [
    "The re.search() function takes two parameters and returns a match object if there is a match. If there is more than one match, only the first occurrence of the match will be returned. If no matches are found, the value None is returned."
   ]
  },
  {
   "cell_type": "code",
   "execution_count": 5,
   "id": "1d74d9af",
   "metadata": {},
   "outputs": [
    {
     "name": "stdout",
     "output_type": "stream",
     "text": [
      "<re.Match object; span=(15, 16), match='s'>\n"
     ]
    }
   ],
   "source": [
    "import re\n",
    "txt = \"Ineuron Students\"\n",
    "txt2 = re.search(\"s\",txt)\n",
    "print(txt2)"
   ]
  },
  {
   "cell_type": "markdown",
   "id": "3590fdad",
   "metadata": {},
   "source": [
    "**4. From a Match item, how do you get the actual strings that match the pattern?**"
   ]
  },
  {
   "cell_type": "markdown",
   "id": "a36c1e01",
   "metadata": {},
   "source": [
    "The **group()** method returns strings of the matched text."
   ]
  },
  {
   "cell_type": "code",
   "execution_count": 6,
   "id": "17f1ab59",
   "metadata": {},
   "outputs": [
    {
     "name": "stdout",
     "output_type": "stream",
     "text": [
      "s\n"
     ]
    }
   ],
   "source": [
    "import re\n",
    "txt = \"Ineuron Students\"\n",
    "txt2 = re.search(\"s\",txt)\n",
    "print(txt2.group())"
   ]
  },
  {
   "cell_type": "markdown",
   "id": "ff4f0a82",
   "metadata": {},
   "source": [
    "**5. In the regex which created from the r'(\\d\\d\\d)-(\\d\\d\\d-\\d\\d\\d\\d)', what does group zero cover? Group 2? Group 1?**"
   ]
  },
  {
   "cell_type": "raw",
   "id": "7af8b1df",
   "metadata": {},
   "source": [
    "group zero covers - r'(\\d\\d\\d)-(\\d\\d\\d-\\d\\d\\d\\d)'\n",
    "group 1 covers - (\\d\\d\\d)\n",
    "group 2 covers - (\\d\\d\\d-\\d\\d\\d\\d)\n"
   ]
  },
  {
   "cell_type": "code",
   "execution_count": 4,
   "id": "bf8a8d7f",
   "metadata": {},
   "outputs": [
    {
     "name": "stdout",
     "output_type": "stream",
     "text": [
      "314-656-7865\n",
      "314\n",
      "656-7865\n",
      "('314', '656-7865')\n"
     ]
    }
   ],
   "source": [
    "#example\n",
    "\n",
    "import re\n",
    "regex = re.compile(r'(\\d\\d\\d)-(\\d\\d\\d-\\d\\d\\d\\d)')\n",
    "mo = regex.search(\"My phone number is : '314-656-7865'\")\n",
    "\n",
    "print(mo.group())   #return all pattern matched string entire\n",
    "print(mo.group(1))  #return first group in the entire string\n",
    "print(mo.group(2))  #returns second group\n",
    "print(mo.groups())  #returns the set of individual groups in a tuple format"
   ]
  },
  {
   "cell_type": "markdown",
   "id": "92b8853f",
   "metadata": {},
   "source": [
    "**6. In standard expression syntax, parentheses and intervals have distinct meanings. How can you tell\n",
    "a regex that you want it to fit real parentheses and periods?**"
   ]
  },
  {
   "cell_type": "raw",
   "id": "670cc602",
   "metadata": {},
   "source": [
    "The matches for the first-starting group of parentheses are provided by using \\( and \\).\n",
    "The \\( and \\) escape characters in the raw string passed to re.compile() will match actual parenthesis characters."
   ]
  },
  {
   "cell_type": "code",
   "execution_count": 5,
   "id": "156cc2e4",
   "metadata": {},
   "outputs": [
    {
     "name": "stdout",
     "output_type": "stream",
     "text": [
      "(415) 555-4242\n"
     ]
    }
   ],
   "source": [
    "#example\n",
    "\n",
    "import re\n",
    "Regex = re.compile(r'(\\(\\d\\d\\d\\)) (\\d\\d\\d-\\d\\d\\d\\d)')\n",
    "mo = Regex.search('My phone number is (415) 555-4242.')\n",
    "print(mo.group())"
   ]
  },
  {
   "cell_type": "markdown",
   "id": "6360c80f",
   "metadata": {},
   "source": [
    "**7. The findall() method returns a string list or a list of string tuples. What causes it to return one of\n",
    "the two options?**"
   ]
  },
  {
   "cell_type": "markdown",
   "id": "005bb24d",
   "metadata": {},
   "source": [
    "**findall()** -- If the regex has no groups, a list of strings is returned. If the regex has groups, a list of tuples of strings is returned."
   ]
  },
  {
   "cell_type": "code",
   "execution_count": 1,
   "id": "3d93645e",
   "metadata": {},
   "outputs": [
    {
     "name": "stdout",
     "output_type": "stream",
     "text": [
      "[('(415)', '555-4242')]\n"
     ]
    }
   ],
   "source": [
    "#example1\n",
    "\n",
    "import re\n",
    "phoneNumRegex = re.compile(r'(\\(\\d\\d\\d\\)) (\\d\\d\\d-\\d\\d\\d\\d)')\n",
    "mo = phoneNumRegex.findall('My phone number is (415) 555-4242.')\n",
    "print(mo) #returns list of tuples of strings"
   ]
  },
  {
   "cell_type": "code",
   "execution_count": 8,
   "id": "ed653ba4",
   "metadata": {},
   "outputs": [
    {
     "name": "stdout",
     "output_type": "stream",
     "text": [
      "['415-555-4242']\n"
     ]
    }
   ],
   "source": [
    "#example2\n",
    "\n",
    "import re\n",
    "phoneNumRegex = re.compile(r'\\d{3}-\\d{3}-\\d{4}')\n",
    "mo = phoneNumRegex.findall('My phone number is 415-555-4242.')\n",
    "print(mo)  #returns list of strings"
   ]
  },
  {
   "cell_type": "markdown",
   "id": "e64baaa6",
   "metadata": {},
   "source": [
    "**8. In standard expressions, what does the | character mean?**"
   ]
  },
  {
   "cell_type": "markdown",
   "id": "534ae750",
   "metadata": {},
   "source": [
    "The choice (also known as alternation or set union) operator matches either the expression before or the expression after the operator. For example, abc|def matches \"abc\" or \"def\"."
   ]
  },
  {
   "cell_type": "markdown",
   "id": "3c557664",
   "metadata": {},
   "source": [
    "**9. In regular expressions, what does the character stand for?**"
   ]
  },
  {
   "cell_type": "markdown",
   "id": "e0ec0c41",
   "metadata": {},
   "source": [
    "Each character in a regular expression (that is, each character in the string describing its pattern) is either a metacharacter, having a special meaning, or a regular character that has a literal meaning. For example, in the regex b., 'b' is a literal character that matches just 'b', while '.' is a metacharacter that matches every character except a newline. "
   ]
  },
  {
   "cell_type": "markdown",
   "id": "add5517c",
   "metadata": {},
   "source": [
    "**10.In regular expressions, what is the difference between the + and * characters?**"
   ]
  },
  {
   "cell_type": "raw",
   "id": "e3deb206",
   "metadata": {},
   "source": [
    "They are quantifiers.\n",
    "\n",
    "+ means 1 or many (at least one occurrence for the match to succeed)\n",
    "* means 0 or many (the match succeeds regardless of the presence of the search string)"
   ]
  },
  {
   "cell_type": "markdown",
   "id": "d5c37101",
   "metadata": {},
   "source": [
    "**11. What is the difference between {4} and {4,5} in regular expression?**"
   ]
  },
  {
   "cell_type": "markdown",
   "id": "54dae001",
   "metadata": {},
   "source": [
    "**{4}** means that the preceding character is to be repeated 4 times<br>\n",
    "**(4,5}** means that the preceding character is repeated at least 4 times & at most 5 times."
   ]
  },
  {
   "cell_type": "markdown",
   "id": "d202eaba",
   "metadata": {},
   "source": [
    "**12. What do you mean by the \\d, \\w, and \\s shorthand character classes signify in regular\n",
    "expressions?**"
   ]
  },
  {
   "cell_type": "markdown",
   "id": "c0c86754",
   "metadata": {},
   "source": [
    "**\\d**: This is the \"digit character\" class represents the regex range [0-9], and it will match the single-digit character\n",
    "\n",
    "**\\w**:  This is the \"word character\" class that represents the regex range [A-Za-z0-9_], and it will match a single uppercase character, lower-case character, digit, or underscore\n",
    "\n",
    "**\\s**: This is the \"whitespace character\" class that represents the regex range, matching a single space, carriage return, tab, line break, form feed, or vertical tab"
   ]
  },
  {
   "cell_type": "markdown",
   "id": "f46b6fe2",
   "metadata": {},
   "source": [
    "**13. What do means by \\D, \\W, and \\S shorthand character classes signify in regular expressions?**"
   ]
  },
  {
   "cell_type": "markdown",
   "id": "cf055e6f",
   "metadata": {},
   "source": [
    "**\\D, \\W, and \\S - These are called negated shorthand classes**<br><br>\n",
    "**\\W**: the \"non-word character\" class represents the regex range [^A-Za-z0-9_], matching any character that is not included in the range represented by \\w<br>\n",
    "**\\D**: the \"non-digit character\" class represents the regex range [^0-9], matching any character that is not included in the range represented by \\d<br>\n",
    "**\\S**: the “non-whitespace character” class represents the regex range [^ \\t\\r\\n\\f\\v], matching any character that is not included in the range represented by \\s"
   ]
  },
  {
   "cell_type": "markdown",
   "id": "6aa42036",
   "metadata": {},
   "source": [
    "**14. What is the difference between .*? and .*?**"
   ]
  },
  {
   "cell_type": "markdown",
   "id": "6337ed20",
   "metadata": {},
   "source": [
    "**.*-**  is a Greedy mode, which returns the longest string that meets the condition.<br> Whereas **.*?** - is a non greedy mode which returns the shortest string that meets the condition."
   ]
  },
  {
   "cell_type": "markdown",
   "id": "a0023032",
   "metadata": {},
   "source": [
    "**15. What is the syntax for matching both numbers and lowercase letters with a character class?**"
   ]
  },
  {
   "cell_type": "code",
   "execution_count": null,
   "id": "259ce91b",
   "metadata": {},
   "outputs": [],
   "source": [
    "[a-zA-Z0-9]"
   ]
  },
  {
   "cell_type": "markdown",
   "id": "2acea2f5",
   "metadata": {},
   "source": [
    "**16. What is the procedure for making a normal expression in regax case insensitive?**"
   ]
  },
  {
   "cell_type": "markdown",
   "id": "37bc8b0d",
   "metadata": {},
   "source": [
    "**IGNORECASE** : This flag allows for case-insensitive matching of the Regular Expression with the given string i.e. expressions like [A-Z] will match lowercase letters, too.<br>\n",
    "We can pass **re.IGNORECASE** as a flag to make a noraml expression case insensitive"
   ]
  },
  {
   "cell_type": "markdown",
   "id": "739d4c71",
   "metadata": {},
   "source": [
    "**17. What does the . character normally match? What does it match if re.DOTALL is passed as 2nd\n",
    "argument in re.compile()?**"
   ]
  },
  {
   "cell_type": "markdown",
   "id": "f2290cd8",
   "metadata": {},
   "source": [
    "**. (dot)**: ANY ONE character except newline. Same as [^\\n]<br>\n",
    "If **re. DOTALL** is passed as the second argument to re. compile(), then the dot will also match newline characters."
   ]
  },
  {
   "cell_type": "markdown",
   "id": "489de006",
   "metadata": {},
   "source": [
    "**18. If numReg = re.compile(r&#39;\\d+&#39;), what will numRegex.sub(&#39;X&#39;, &#39;11 drummers, 10 pipers, five rings, 4\n",
    "hen&#39;) return?**"
   ]
  },
  {
   "cell_type": "code",
   "execution_count": 9,
   "id": "059b0f3e",
   "metadata": {},
   "outputs": [
    {
     "data": {
      "text/plain": [
       "'X drummers, X pipers, five rings, X hen'"
      ]
     },
     "execution_count": 9,
     "metadata": {},
     "output_type": "execute_result"
    }
   ],
   "source": [
    "import re\n",
    "numReg = re.compile(r'\\d+')\n",
    "numReg.sub('X', '11 drummers, 10 pipers, five rings, 4 hen')"
   ]
  },
  {
   "cell_type": "markdown",
   "id": "79a5f1e9",
   "metadata": {},
   "source": [
    "**19. What does passing re.VERBOSE as the 2nd argument to re.compile() allow to do?**"
   ]
  },
  {
   "cell_type": "raw",
   "id": "a61b9631",
   "metadata": {},
   "source": [
    "The re.VERBOSE argument allows you to add whitespace and comments to the string passed to re.compile()\n"
   ]
  },
  {
   "cell_type": "markdown",
   "id": "14f0280a",
   "metadata": {},
   "source": [
    "**20.How would you write a regex that match a number with comma for every three digits? It must\n",
    "match the given following:\n",
    "&#39;42&#39;\n",
    "&#39;1,234&#39;\n",
    "&#39;6,368,745&#39;\n",
    "but not the following:\n",
    "&#39;12,34,567&#39; (which has only two digits between the commas)\n",
    "&#39;1234&#39; (which lacks commas)**"
   ]
  },
  {
   "cell_type": "code",
   "execution_count": 10,
   "id": "d0a8da2d",
   "metadata": {},
   "outputs": [
    {
     "name": "stdout",
     "output_type": "stream",
     "text": [
      "Output: 42 -> <re.Match object; span=(0, 2), match='42'>\n",
      "Output: 1,234 -> <re.Match object; span=(0, 5), match='1,234'>\n",
      "Output: 6,368,745 -> <re.Match object; span=(0, 9), match='6,368,745'>\n",
      "Output: 12,34,567 -> None\n",
      "Output: 1234 -> None\n"
     ]
    }
   ],
   "source": [
    "import re\n",
    "pattern = r'^\\d{1,3}(,\\d{3})*$'\n",
    "pagex = re.compile(pattern)\n",
    "for ele in ['42','1,234', '6,368,745','12,34,567','1234']:\n",
    "    print('Output:',ele, '->', pagex.search(ele))"
   ]
  },
  {
   "cell_type": "markdown",
   "id": "34f4b394",
   "metadata": {},
   "source": [
    "**21. How would you write a regex that matches the full name of someone whose last name is\n",
    "Watanabe? You can assume that the first name that comes before it will always be one word that\n",
    "begins with a capital letter. The regex must match the following:<br>\n",
    "&#39;Haruto Watanabe&#39;<br>\n",
    "&#39;Alice Watanabe&#39;<br>\n",
    "&#39;RoboCop Watanabe&#39;<br>\n",
    "but not the following:<br>\n",
    "&#39;haruto Watanabe&#39; (where the first name is not capitalized)<br>\n",
    "&#39;Mr. Watanabe&#39; (where the preceding word has a nonletter character)<br>\n",
    "&#39;Watanabe&#39; (which has no first name)<br>\n",
    "&#39;Haruto watanabe&#39; (where Watanabe is not capitalized)**"
   ]
  },
  {
   "cell_type": "code",
   "execution_count": 11,
   "id": "b2840653",
   "metadata": {},
   "outputs": [
    {
     "name": "stdout",
     "output_type": "stream",
     "text": [
      "Output:  Haruto Watanabe -> <re.Match object; span=(0, 15), match='Haruto Watanabe'>\n",
      "Output:  Alice Watanabe -> <re.Match object; span=(0, 14), match='Alice Watanabe'>\n",
      "Output:  RoboCop Watanabe -> <re.Match object; span=(4, 16), match='Cop Watanabe'>\n",
      "Output:  haruto Watanabe -> None\n",
      "Output:  Mr. Watanabe -> None\n",
      "Output:  Watanabe -> None\n",
      "Output:  Haruto watanabe -> None\n"
     ]
    }
   ],
   "source": [
    "import re\n",
    "pattern = r'[A-Z]{1}[a-z]*\\sWatanabe'\n",
    "namex = re.compile(pattern)\n",
    "for name in ['Haruto Watanabe','Alice Watanabe','RoboCop Watanabe','haruto Watanabe','Mr. Watanabe','Watanabe','Haruto watanabe']:\n",
    "    print('Output: ',name,'->',namex.search(name))"
   ]
  },
  {
   "cell_type": "markdown",
   "id": "92b46c33",
   "metadata": {},
   "source": [
    "**22. How would you write a regex that matches a sentence where the first word is either Alice, Bob,or Carol; the second word is either eats, pets, or throws; the third word is apples, cats, or baseballs; and the sentence ends with a period? This regex should be case-insensitive. It must match the following:<br>\n",
    "'Alice eats apples.'<br>\n",
    "'Bob pets cats.'<br>\n",
    "'Carol throws baseballs.'<br>\n",
    "'Alice throws Apples.'<br>\n",
    "'BOB EATS CATS.'<br><br>\n",
    "but not the following:<br>\n",
    "'RoboCop eats apples.'<br>\n",
    "'ALICE THROWS FOOTBALLS.'<br>\n",
    "'Carol eats 7 cats.'**<br>"
   ]
  },
  {
   "cell_type": "code",
   "execution_count": 12,
   "id": "2bbcd6e0",
   "metadata": {},
   "outputs": [
    {
     "name": "stdout",
     "output_type": "stream",
     "text": [
      "Output:  Alice eats apples. -> <re.Match object; span=(0, 18), match='Alice eats apples.'>\n",
      "Output:  Bob pets cats. -> <re.Match object; span=(0, 14), match='Bob pets cats.'>\n",
      "Output:  Carol throws baseballs. -> <re.Match object; span=(0, 23), match='Carol throws baseballs.'>\n",
      "Output:  Alice throws Apples. -> <re.Match object; span=(0, 20), match='Alice throws Apples.'>\n",
      "Output:  BOB EATS CATS. -> <re.Match object; span=(0, 14), match='BOB EATS CATS.'>\n",
      "Output:  RoboCop eats apples. -> None\n",
      "Output:  ALICE THROWS FOOTBALLS. -> None\n",
      "Output:  Carol eats 7 cats. -> None\n"
     ]
    }
   ],
   "source": [
    "import re\n",
    "pattern = r'(Alice|Bob|Carol)\\s(eats|pets|throws)\\s(apples|cats|baseballs)\\.'\n",
    "casex = re.compile(pattern,re.IGNORECASE)\n",
    "for ele in ['Alice eats apples.','Bob pets cats.','Carol throws baseballs.','Alice throws Apples.','BOB EATS CATS.','RoboCop eats apples.'\n",
    ",'ALICE THROWS FOOTBALLS.','Carol eats 7 cats.']:\n",
    "    print('Output: ',ele,'->',casex.search(ele))"
   ]
  },
  {
   "cell_type": "markdown",
   "id": "43918837",
   "metadata": {},
   "source": [
    "---"
   ]
  }
 ],
 "metadata": {
  "kernelspec": {
   "display_name": "Python 3 (ipykernel)",
   "language": "python",
   "name": "python3"
  },
  "language_info": {
   "codemirror_mode": {
    "name": "ipython",
    "version": 3
   },
   "file_extension": ".py",
   "mimetype": "text/x-python",
   "name": "python",
   "nbconvert_exporter": "python",
   "pygments_lexer": "ipython3",
   "version": "3.9.12"
  }
 },
 "nbformat": 4,
 "nbformat_minor": 5
}
