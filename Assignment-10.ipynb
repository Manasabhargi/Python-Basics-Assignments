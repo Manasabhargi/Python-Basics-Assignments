{
 "cells": [
  {
   "cell_type": "markdown",
   "id": "17bd2291",
   "metadata": {},
   "source": [
    "<font color = 'red'>**1. How do you distinguish between shutil.copy() and shutil.copytree()?**</font>"
   ]
  },
  {
   "cell_type": "markdown",
   "id": "0e06705e",
   "metadata": {},
   "source": [
    "**shutil.copy()** will copy a single file, shutil.<br>\n",
    "**shutil.copytree()** will copy an entire folder and every folder and file contained in it."
   ]
  },
  {
   "cell_type": "markdown",
   "id": "3a98bd50",
   "metadata": {},
   "source": [
    "<font color = 'red'>**2. What function is used to rename files??**</font>"
   ]
  },
  {
   "cell_type": "markdown",
   "id": "fff172f1",
   "metadata": {},
   "source": [
    "**rename()** method in Python is used to rename a file or directory. This method renames a source file/ directory to specified destination file/directory."
   ]
  },
  {
   "cell_type": "markdown",
   "id": "07901029",
   "metadata": {},
   "source": [
    "<font color = 'red'>**3. What is the difference between the delete functions in the send2trash and shutil modules?**</font>"
   ]
  },
  {
   "cell_type": "markdown",
   "id": "577da926",
   "metadata": {},
   "source": [
    "The **send2trash** functions will move a file or folder to the recycle bin,<br>\n",
    "while **shutil** functions will permanently delete files and folders."
   ]
  },
  {
   "cell_type": "markdown",
   "id": "52037ffd",
   "metadata": {},
   "source": [
    "<font color = 'red'>**4.ZipFile objects have a close() method just like File objects’ close() method. What ZipFile method is\n",
    "equivalent to File objects’ open() method?**</font>"
   ]
  },
  {
   "cell_type": "markdown",
   "id": "5a50c029",
   "metadata": {},
   "source": [
    "The **zipfile.ZipFile()** function is equivalent to the open() function; <br>\n",
    "the first argument is the filename, and the second argument is the mode to open the ZIP file in (read, write, or append)."
   ]
  },
  {
   "cell_type": "markdown",
   "id": "ab664f35",
   "metadata": {},
   "source": [
    "<font color = 'red'>**5. Create a programme that searches a folder tree for files with a certain file extension (such as .pdf\n",
    "or .jpg). Copy these files from whatever location they are in to a new folder.**</font>"
   ]
  },
  {
   "cell_type": "code",
   "execution_count": 1,
   "id": "5669464f",
   "metadata": {},
   "outputs": [
    {
     "name": "stdout",
     "output_type": "stream",
     "text": [
      "Looking in C:\\Users\\Lenovo\\randomFolder for files with extensions of .php, .py\n"
     ]
    }
   ],
   "source": [
    "#!/usr/bin/env python3\n",
    "\n",
    "# Write a program that walks through a folder tree \n",
    "# and searches for files with a certain file extension (such as .pdf or .jpg).\n",
    "# Copy these files from whatever location they are in to a new folder.\n",
    "\n",
    "import os, shutil\n",
    "\n",
    "def selectiveCopy(folder, extensions, destFolder):\n",
    "\tfolder = os.path.abspath(folder)\n",
    "\tdestFolder = os.path.abspath(destFolder)\n",
    "\tprint('Looking in', folder, 'for files with extensions of', ', '.join(extensions))\n",
    "\tfor foldername, subfolders, filenames in os.walk(folder):\n",
    "\t\tfor filename in filenames:\n",
    "\t\t\tname, extension = os.path.splitext(filename)\n",
    "\t\t\tif extension in extensions:\n",
    "\t\t\t\tfileAbsPath = foldername + os.path.sep + filename\n",
    "\t\t\t\tprint('Coping', fileAbsPath, 'to', destFolder)\n",
    "\t\t\t\tshutil.copy(fileAbsPath, destFolder)\n",
    "\n",
    "extensions = ['.php', '.py']\n",
    "folder = 'randomFolder'\n",
    "destFolder = 'selectiveFolder'\n",
    "selectiveCopy(folder, extensions, destFolder)"
   ]
  },
  {
   "cell_type": "code",
   "execution_count": null,
   "id": "04ecbcd7",
   "metadata": {},
   "outputs": [],
   "source": []
  }
 ],
 "metadata": {
  "kernelspec": {
   "display_name": "Python 3 (ipykernel)",
   "language": "python",
   "name": "python3"
  },
  "language_info": {
   "codemirror_mode": {
    "name": "ipython",
    "version": 3
   },
   "file_extension": ".py",
   "mimetype": "text/x-python",
   "name": "python",
   "nbconvert_exporter": "python",
   "pygments_lexer": "ipython3",
   "version": "3.9.12"
  }
 },
 "nbformat": 4,
 "nbformat_minor": 5
}
