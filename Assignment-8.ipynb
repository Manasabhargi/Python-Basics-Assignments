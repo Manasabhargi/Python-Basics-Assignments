{
 "cells": [
  {
   "cell_type": "markdown",
   "id": "6c18bce0",
   "metadata": {},
   "source": [
    "<font color='red'>**1. Is the Python Standard Library included with PyInputPlus?**</font>"
   ]
  },
  {
   "cell_type": "markdown",
   "id": "748c7f50",
   "metadata": {},
   "source": [
    "The **Python Standard Library** is a collection of script modules accessible to a Python program to simplify the programming process and removing the need to rewrite commonly used commands\n",
    "\n",
    "**PyInputPlus** is a Python module used for taking inputs with additional validation features.\n",
    "\n",
    "PyInputPlus needs to be externally installed by using the command - pip install pyInputPlus"
   ]
  },
  {
   "cell_type": "markdown",
   "id": "b4a930e2",
   "metadata": {},
   "source": [
    "<font color='red'>**2. Why is PyInputPlus commonly imported with import pyinputplus as pypi?**</font>"
   ]
  },
  {
   "cell_type": "markdown",
   "id": "d7c6b074",
   "metadata": {},
   "source": [
    "You can import the module with import pyinputplus as pyip so that you can enter a shorter name when calling the module's functions."
   ]
  },
  {
   "cell_type": "markdown",
   "id": "c0621f77",
   "metadata": {},
   "source": [
    "<font color='red'>**3. How do you distinguish between inputInt() and inputFloat()?**</font>"
   ]
  },
  {
   "cell_type": "markdown",
   "id": "c8391b6b",
   "metadata": {},
   "source": [
    "**inputInt()** function Accepts an integer value. This also takes additional parameters min, max, greaterThan and lessThan for bounds. And it always returns an int.\n",
    "\n",
    "Whereas **inputFloat()** function Accepts a floating-point numeric value. this also takes additional min, max, greaterThan and lessThan parameters. and always returns a float."
   ]
  },
  {
   "cell_type": "markdown",
   "id": "17e4fffe",
   "metadata": {},
   "source": [
    "<font color='red'>**4. Using PyInputPlus, how do you ensure that the user enters a whole number between 0 and 99?**</font>"
   ]
  },
  {
   "cell_type": "markdown",
   "id": "18157471",
   "metadata": {},
   "source": [
    "PyInputPlus module provides a function called as inputInt() which only returns only integer values.<br> Inorder to restrict the input between 0 and 99, i'ii use parameters like min & max to ensure that user enters the values between the defined range only.\n",
    "\n"
   ]
  },
  {
   "cell_type": "code",
   "execution_count": 1,
   "id": "2fcf6fa5",
   "metadata": {},
   "outputs": [
    {
     "name": "stdout",
     "output_type": "stream",
     "text": [
      "Collecting pyInputPlus\n",
      "  Using cached PyInputPlus-0.2.12-py3-none-any.whl\n",
      "Collecting pysimplevalidate>=0.2.7\n",
      "  Using cached PySimpleValidate-0.2.12-py3-none-any.whl\n",
      "Collecting stdiomask>=0.0.3\n",
      "  Using cached stdiomask-0.0.6-py3-none-any.whl\n",
      "Installing collected packages: stdiomask, pysimplevalidate, pyInputPlus\n",
      "Successfully installed pyInputPlus-0.2.12 pysimplevalidate-0.2.12 stdiomask-0.0.6\n",
      "Note: you may need to restart the kernel to use updated packages.\n"
     ]
    }
   ],
   "source": [
    "pip install pyInputPlus"
   ]
  },
  {
   "cell_type": "code",
   "execution_count": null,
   "id": "5e0c2c4d",
   "metadata": {},
   "outputs": [],
   "source": [
    "import pyinputplus as pyip\n",
    "wholenumber = pyip.inputInt(prompt='Enter a number: ', min=0, max=100)\n",
    "print(wholenumber)"
   ]
  },
  {
   "cell_type": "markdown",
   "id": "60c401ac",
   "metadata": {},
   "source": [
    "<font color='red'>**5. What is transferred to the keyword arguments allowRegexes and blockRegexes?**</font>"
   ]
  },
  {
   "cell_type": "markdown",
   "id": "f90b14d5",
   "metadata": {},
   "source": [
    "we can use allowRegexes and blockRegexes keyword arguments to take list of regular expression strings to determine what the pyinputplus function will reject or accept valid input."
   ]
  },
  {
   "cell_type": "markdown",
   "id": "a881b5c1",
   "metadata": {},
   "source": [
    "<font color='red'>**6. If a blank input is entered three times, what does inputStr(limit=3) do?**</font>"
   ]
  },
  {
   "cell_type": "markdown",
   "id": "a4118006",
   "metadata": {},
   "source": [
    "The statement inputStr(limit=3) will throw two exceptions ValidationException and RetryLimitException. The first exception is thrown because blank values are not allowed by inputStr() function by default. it we want to consider blank values as valid input, we have to set blank=True.\n",
    "\n",
    "The second exception is occured because we have reached the max limit we have specified by using limit parameter. inorder to avoid this exception we can use default parameter to return a default value when max limit is reached."
   ]
  },
  {
   "cell_type": "markdown",
   "id": "03701536",
   "metadata": {},
   "source": [
    "<font color='red'>**7. If blank input is entered three times, what does inputStr(limit=3, default=&#39;hello&#39;) do?**</font>"
   ]
  },
  {
   "cell_type": "markdown",
   "id": "66426aed",
   "metadata": {},
   "source": [
    "Since the default parameter is set to hello. after blank input is entered three times instead of raising RetryLimitException exception. the function will return hello as response to the calling function"
   ]
  },
  {
   "cell_type": "code",
   "execution_count": null,
   "id": "ee385cad",
   "metadata": {},
   "outputs": [],
   "source": []
  }
 ],
 "metadata": {
  "kernelspec": {
   "display_name": "Python 3 (ipykernel)",
   "language": "python",
   "name": "python3"
  },
  "language_info": {
   "codemirror_mode": {
    "name": "ipython",
    "version": 3
   },
   "file_extension": ".py",
   "mimetype": "text/x-python",
   "name": "python",
   "nbconvert_exporter": "python",
   "pygments_lexer": "ipython3",
   "version": "3.9.12"
  }
 },
 "nbformat": 4,
 "nbformat_minor": 5
}
