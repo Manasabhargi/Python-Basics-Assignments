{
 "cells": [
  {
   "cell_type": "markdown",
   "id": "34833c62",
   "metadata": {},
   "source": [
    "**1. What does an empty dictionary's code look like?**"
   ]
  },
  {
   "cell_type": "code",
   "execution_count": null,
   "id": "83f8e7e3",
   "metadata": {},
   "outputs": [],
   "source": [
    "dict = {}"
   ]
  },
  {
   "cell_type": "markdown",
   "id": "a237661e",
   "metadata": {},
   "source": [
    "**2. What is the value of a dictionary value with the key 'foo' and the value 42?**"
   ]
  },
  {
   "cell_type": "code",
   "execution_count": 1,
   "id": "787b173a",
   "metadata": {},
   "outputs": [],
   "source": [
    "dict = {'foo':42}"
   ]
  },
  {
   "cell_type": "markdown",
   "id": "d9e31e18",
   "metadata": {},
   "source": [
    "**3. What is the most significant distinction between a dictionary and a list?**"
   ]
  },
  {
   "cell_type": "raw",
   "id": "69a1d624",
   "metadata": {},
   "source": [
    "Items in dictionaries are accessed via keys and in lists the items are accessed via their positions."
   ]
  },
  {
   "cell_type": "markdown",
   "id": "52517672",
   "metadata": {},
   "source": [
    "**4. What happens if you try to access spam[foo] if spam is {bar: 100}?**"
   ]
  },
  {
   "cell_type": "code",
   "execution_count": 3,
   "id": "edae3c0d",
   "metadata": {},
   "outputs": [],
   "source": [
    "spam = {'bar':100}"
   ]
  },
  {
   "cell_type": "code",
   "execution_count": 4,
   "id": "c1b40055",
   "metadata": {},
   "outputs": [
    {
     "ename": "KeyError",
     "evalue": "'foo'",
     "output_type": "error",
     "traceback": [
      "\u001b[1;31m---------------------------------------------------------------------------\u001b[0m",
      "\u001b[1;31mKeyError\u001b[0m                                  Traceback (most recent call last)",
      "Input \u001b[1;32mIn [4]\u001b[0m, in \u001b[0;36m<cell line: 1>\u001b[1;34m()\u001b[0m\n\u001b[1;32m----> 1\u001b[0m \u001b[43mspam\u001b[49m\u001b[43m[\u001b[49m\u001b[38;5;124;43m'\u001b[39;49m\u001b[38;5;124;43mfoo\u001b[39;49m\u001b[38;5;124;43m'\u001b[39;49m\u001b[43m]\u001b[49m\n",
      "\u001b[1;31mKeyError\u001b[0m: 'foo'"
     ]
    }
   ],
   "source": [
    "spam['foo']"
   ]
  },
  {
   "cell_type": "markdown",
   "id": "4dc0102b",
   "metadata": {},
   "source": [
    "**5. If a dictionary is stored in spam, what is the difference between the expressions 'cat' in spam and 'cat' in spam.keys()?**"
   ]
  },
  {
   "cell_type": "raw",
   "id": "bdc34cb9",
   "metadata": {},
   "source": [
    "There is no difference it checks for cat as key value, if it is found then it returns TRUE.\n"
   ]
  },
  {
   "cell_type": "raw",
   "id": "c6458a69",
   "metadata": {},
   "source": [
    "'cat' in spam = True\n",
    "'cat' in  spam.keys() = True"
   ]
  },
  {
   "cell_type": "markdown",
   "id": "86bcdae5",
   "metadata": {},
   "source": [
    "**6. If a dictionary is stored in spam, what is the difference between the expressions 'cat' in spam and 'cat' in spam.values()?**"
   ]
  },
  {
   "cell_type": "raw",
   "id": "f34145e7",
   "metadata": {},
   "source": [
    "'cat' in spam = True\n",
    "'cat' in  spam.keys() = False \n"
   ]
  },
  {
   "cell_type": "markdown",
   "id": "274cfd9e",
   "metadata": {},
   "source": [
    "**7. What is a shortcut for the following code?**\n"
   ]
  },
  {
   "cell_type": "code",
   "execution_count": 9,
   "id": "02dd616c",
   "metadata": {},
   "outputs": [
    {
     "data": {
      "text/plain": [
       "{'dog': 56, 'color': 'black'}"
      ]
     },
     "execution_count": 9,
     "metadata": {},
     "output_type": "execute_result"
    }
   ],
   "source": [
    "spam = {'dog':56}\n",
    "spam.setdefault('color','black')\n",
    "spam"
   ]
  },
  {
   "cell_type": "markdown",
   "id": "4cd9b8d4",
   "metadata": {},
   "source": [
    "**8. How do you 'pretty prin' dictionary values using which module and function?**"
   ]
  },
  {
   "cell_type": "code",
   "execution_count": 10,
   "id": "a773dd4e",
   "metadata": {},
   "outputs": [],
   "source": [
    "import pprint\n",
    "diict = [ {'Name': 'Manasa', 'Age': '23', 'State': 'Karnataka'},\n",
    "  {'Name': 'Bhargav', 'Age': '44', 'State': 'Maharashtra'},\n",
    "  {'Name': 'Pawan', 'Age': '29', 'Country': 'UK'},\n",
    "  {'Name': 'Akshatha', 'Age': '35', 'Country': 'USA'}\n",
    "]"
   ]
  },
  {
   "cell_type": "code",
   "execution_count": 12,
   "id": "51e79010",
   "metadata": {},
   "outputs": [
    {
     "name": "stdout",
     "output_type": "stream",
     "text": [
      "[{'Age': '23', 'Name': 'Manasa', 'State': 'Karnataka'},\n",
      " {'Age': '44', 'Name': 'Bhargav', 'State': 'Maharashtra'},\n",
      " {'Age': '29', 'Country': 'UK', 'Name': 'Pawan'},\n",
      " {'Age': '35', 'Country': 'USA', 'Name': 'Akshatha'}]\n"
     ]
    }
   ],
   "source": [
    "pprint.pprint(dct)"
   ]
  },
  {
   "cell_type": "code",
   "execution_count": null,
   "id": "61d30fc1",
   "metadata": {},
   "outputs": [],
   "source": []
  }
 ],
 "metadata": {
  "kernelspec": {
   "display_name": "Python 3 (ipykernel)",
   "language": "python",
   "name": "python3"
  },
  "language_info": {
   "codemirror_mode": {
    "name": "ipython",
    "version": 3
   },
   "file_extension": ".py",
   "mimetype": "text/x-python",
   "name": "python",
   "nbconvert_exporter": "python",
   "pygments_lexer": "ipython3",
   "version": "3.9.12"
  }
 },
 "nbformat": 4,
 "nbformat_minor": 5
}
