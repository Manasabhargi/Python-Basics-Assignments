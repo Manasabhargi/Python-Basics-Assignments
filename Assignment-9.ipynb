{
 "cells": [
  {
   "cell_type": "markdown",
   "id": "679adf37",
   "metadata": {},
   "source": [
    "<font color='blue'>**1. To what does a relative path refer?**</font>"
   ]
  },
  {
   "cell_type": "raw",
   "id": "ca55c873",
   "metadata": {},
   "source": [
    "The relative path is the path to some file with respect to your current working directory (PWD).\n",
    "\n",
    "For example: if Absolute path to a file called stuff.txt is: C:/users/admin/docs/stuff.txt If my PWD is C:/users/admin/ , then the relative path to stuff.txt would be: docs/stuff.txt\n",
    "\n",
    "Note: PWD + relative path = absolute path"
   ]
  },
  {
   "cell_type": "markdown",
   "id": "f853a69f",
   "metadata": {},
   "source": [
    "<font color='blue'>**2. What does an absolute path start with your operating system?**</font>"
   ]
  },
  {
   "cell_type": "markdown",
   "id": "6d730f12",
   "metadata": {},
   "source": [
    "In Linux based systems the absolute path starts with /. Where as in Windows based systems absolute path starts with C:"
   ]
  },
  {
   "cell_type": "markdown",
   "id": "671bd919",
   "metadata": {},
   "source": [
    "<font color='blue'>**3. What do the functions os.getcwd() and os.chdir() do?**</font>"
   ]
  },
  {
   "cell_type": "markdown",
   "id": "1053d4d8",
   "metadata": {},
   "source": [
    "**os.getcwd()** method tells us the location of current working directory (CWD). <br>\n",
    "Whereas **os.chdir()** method in Python used to change the current working directory to specified path. <br>\n",
    "These functions are similar to linux commands pwd and cd"
   ]
  },
  {
   "cell_type": "code",
   "execution_count": 1,
   "id": "b3146045",
   "metadata": {},
   "outputs": [
    {
     "name": "stdout",
     "output_type": "stream",
     "text": [
      "C:\\Users\\Lenovo\n",
      "C:\\Users\\Lenovo\n"
     ]
    }
   ],
   "source": [
    "import os\n",
    "print(os.getcwd()) # Prints the current Working Directory\n",
    "path = r'C:\\Users\\Lenovo'\n",
    "os.chdir(path)\n",
    "print(os.getcwd())"
   ]
  },
  {
   "cell_type": "markdown",
   "id": "6e88375b",
   "metadata": {},
   "source": [
    "<font color='blue'>**4. What are the . and .. folders?**</font>"
   ]
  },
  {
   "cell_type": "markdown",
   "id": "7c42799d",
   "metadata": {},
   "source": [
    ". Represents the Current Directory Whereas .. Represents the Parent Directory of the Current Directory"
   ]
  },
  {
   "cell_type": "markdown",
   "id": "58337d0d",
   "metadata": {},
   "source": [
    "<font color='blue'>**5. In C:\\bacon\\eggs\\spam.txt, which part is the dir name, and which part is the base name?**</font>"
   ]
  },
  {
   "cell_type": "markdown",
   "id": "a8653b3c",
   "metadata": {},
   "source": [
    "The dir name is C:\\\\bacon\\\\eggs<br>\n",
    "The Base name is spam.txt"
   ]
  },
  {
   "cell_type": "code",
   "execution_count": 2,
   "id": "6dfdc333",
   "metadata": {},
   "outputs": [
    {
     "name": "stdout",
     "output_type": "stream",
     "text": [
      "C:\\bacon\\eggs\n",
      "spam.txt\n"
     ]
    }
   ],
   "source": [
    "import os\n",
    "path = r'C:\\bacon\\eggs\\spam.txt'\n",
    "print(os.path.dirname(path))\n",
    "print(os.path.basename(path))"
   ]
  },
  {
   "cell_type": "markdown",
   "id": "d7253c60",
   "metadata": {},
   "source": [
    "<font color='blue'>**6. What are the three “mode” arguments that can be passed to the open() function?**</font>"
   ]
  },
  {
   "cell_type": "raw",
   "id": "a81a256b",
   "metadata": {},
   "source": [
    "A file can be Accessed in python using open() function. open function takes two arguments filename and mode of operation (optional). if mode is not provided the default mode of opening is read mode\n",
    "So, the syntax being: open(filename, mode)\n",
    "\n",
    "‘r’ – Read Mode: This is the default mode for open(). The file is opened and a pointer is positioned at the beginning of the file’s content.\n",
    "‘w’ – Write Mode: Using this mode will overwrite any existing content in a file. If the given file does not exist, a new one will be created.\n",
    "‘r+’ – Read/Write Mode: Use this mode if you need to simultaneously read and write to a file.\n",
    "‘a’ – Append Mode: With this mode the user can append the data without overwriting any already existing data in the file.\n",
    "‘a+’ – Append and Read Mode: In this mode you can read and append the data without overwriting the original file.\n"
   ]
  },
  {
   "cell_type": "markdown",
   "id": "8897286d",
   "metadata": {},
   "source": [
    "<font color='blue'>**7. What happens if an existing file is opened in write mode?**</font>"
   ]
  },
  {
   "cell_type": "markdown",
   "id": "d809ca6d",
   "metadata": {},
   "source": [
    "This mode will overwrite any existing content in the file.<br>\n",
    "If the given file does not exist, a new one will be created."
   ]
  },
  {
   "cell_type": "markdown",
   "id": "1e41e8f0",
   "metadata": {},
   "source": [
    "<font color='blue'>**8. How do you tell the difference between read() and readlines()?**</font>"
   ]
  },
  {
   "cell_type": "markdown",
   "id": "83b06089",
   "metadata": {},
   "source": [
    "**read()** <br>\n",
    "1. will read the whole file at once and then print out the first characters that take up as many bytes as you specify in the parenthesishis will read the whole file at once and then print out the first characters that take up as many bytes as you specify in the parenthesis.<br>\n",
    "2. This would treat each character in the file separately, meaning that the iteration would happen for every character.<br>\n",
    "\n",
    "**readlines()**<br>\n",
    "1. This will read and print out only the first characters that take up as many bytes as you specify in the parenthesis. You may want to use readline() when you're reading files that are too big for your RAM.<br>\n",
    "2. This function only reads a single line of the file. This means that if the first line of the file were three lines long, the readline() function would only parse (or iterate/operate) on the first line of the file.\n",
    "                                                                                                                       \n"
   ]
  },
  {
   "cell_type": "markdown",
   "id": "7fada529",
   "metadata": {},
   "source": [
    "<font color='blue'>**9. What data structure does a shelf value resemble?**</font>"
   ]
  },
  {
   "cell_type": "markdown",
   "id": "8831b1a9",
   "metadata": {},
   "source": [
    "Shelf value resembles dictionary data structure because it contains key and value pairs."
   ]
  }
 ],
 "metadata": {
  "kernelspec": {
   "display_name": "Python 3 (ipykernel)",
   "language": "python",
   "name": "python3"
  },
  "language_info": {
   "codemirror_mode": {
    "name": "ipython",
    "version": 3
   },
   "file_extension": ".py",
   "mimetype": "text/x-python",
   "name": "python",
   "nbconvert_exporter": "python",
   "pygments_lexer": "ipython3",
   "version": "3.9.12"
  }
 },
 "nbformat": 4,
 "nbformat_minor": 5
}
