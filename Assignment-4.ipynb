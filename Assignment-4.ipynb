{
 "cells": [
  {
   "cell_type": "markdown",
   "id": "d17c5c91",
   "metadata": {},
   "source": [
    "**1. What exactly is []?**"
   ]
  },
  {
   "cell_type": "raw",
   "id": "b35f50b6",
   "metadata": {},
   "source": [
    "\n",
    " [] is a empty list: A mutable collection of values, usually (but not necessarily) of the same type."
   ]
  },
  {
   "cell_type": "markdown",
   "id": "7878e78e",
   "metadata": {},
   "source": [
    "**2.In a list of values stored in a variable called spam, how would you assign the value 'hello' as the\n",
    "third value? (Assume [2, 4, 6, 8, 10] are in spam.)**"
   ]
  },
  {
   "cell_type": "raw",
   "id": "99c37369",
   "metadata": {},
   "source": [
    "According to the indexing third value means spam[2]\n",
    "spam[2] = 'hello'"
   ]
  },
  {
   "cell_type": "code",
   "execution_count": 2,
   "id": "1834be15",
   "metadata": {},
   "outputs": [],
   "source": [
    "spam = ['a','b','c','d']"
   ]
  },
  {
   "cell_type": "code",
   "execution_count": 10,
   "id": "e91bd628",
   "metadata": {},
   "outputs": [],
   "source": [
    "#Let's pretend the spam includes the list ['a','b','c',d'] for the next three queries."
   ]
  },
  {
   "cell_type": "markdown",
   "id": "61ebb45c",
   "metadata": {},
   "source": [
    "**3. What is the value of spam[int(int('3' * 2) / 11)]?**"
   ]
  },
  {
   "cell_type": "code",
   "execution_count": 3,
   "id": "453c1281",
   "metadata": {},
   "outputs": [
    {
     "data": {
      "text/plain": [
       "'d'"
      ]
     },
     "execution_count": 3,
     "metadata": {},
     "output_type": "execute_result"
    }
   ],
   "source": [
    "spam[int(int('3'*2)//11)]"
   ]
  },
  {
   "cell_type": "markdown",
   "id": "d1ebd9b1",
   "metadata": {},
   "source": [
    "**4. What is the value of spam[-1]?**"
   ]
  },
  {
   "cell_type": "code",
   "execution_count": 4,
   "id": "30953dae",
   "metadata": {},
   "outputs": [
    {
     "data": {
      "text/plain": [
       "'d'"
      ]
     },
     "execution_count": 4,
     "metadata": {},
     "output_type": "execute_result"
    }
   ],
   "source": [
    "spam[-1]"
   ]
  },
  {
   "cell_type": "markdown",
   "id": "cafa6dcd",
   "metadata": {},
   "source": [
    "**5. What is the value of spam[:2]?**"
   ]
  },
  {
   "cell_type": "code",
   "execution_count": 5,
   "id": "34f5a537",
   "metadata": {},
   "outputs": [
    {
     "data": {
      "text/plain": [
       "['a', 'b']"
      ]
     },
     "execution_count": 5,
     "metadata": {},
     "output_type": "execute_result"
    }
   ],
   "source": [
    "spam[:2]"
   ]
  },
  {
   "cell_type": "code",
   "execution_count": null,
   "id": "8a819248",
   "metadata": {},
   "outputs": [],
   "source": [
    "#Let's pretend bacon has the list [3.14,'cat',11,'cat',True] for the next three question"
   ]
  },
  {
   "cell_type": "code",
   "execution_count": 6,
   "id": "551c54cd",
   "metadata": {},
   "outputs": [],
   "source": [
    "bacon = [3.14, 'cat', 11, 'cat', True]"
   ]
  },
  {
   "cell_type": "markdown",
   "id": "06209b04",
   "metadata": {},
   "source": [
    "**6. What is the value of bacon.index('cat')?**"
   ]
  },
  {
   "cell_type": "code",
   "execution_count": 7,
   "id": "f36cd4ea",
   "metadata": {},
   "outputs": [
    {
     "data": {
      "text/plain": [
       "1"
      ]
     },
     "execution_count": 7,
     "metadata": {},
     "output_type": "execute_result"
    }
   ],
   "source": [
    "bacon.index('cat')"
   ]
  },
  {
   "cell_type": "markdown",
   "id": "230e20dc",
   "metadata": {},
   "source": [
    "**7. How does bacon.append(99) change the look of the list value in bacon?**"
   ]
  },
  {
   "cell_type": "code",
   "execution_count": 11,
   "id": "9c72a8ad",
   "metadata": {},
   "outputs": [
    {
     "name": "stdout",
     "output_type": "stream",
     "text": [
      "[3.14, 'cat', 11, 'cat', True]\n",
      "[3.14, 'cat', 11, 'cat', True, 99]\n"
     ]
    }
   ],
   "source": [
    "print(bacon)\n",
    "bacon.append(99) # appends 99 to the end of the list\n",
    "print(bacon)"
   ]
  },
  {
   "cell_type": "markdown",
   "id": "bcdf6eec",
   "metadata": {},
   "source": [
    "**8.How does bacon.remove('cat') change the look of the list in bacon?**"
   ]
  },
  {
   "cell_type": "code",
   "execution_count": 12,
   "id": "729ab8b3",
   "metadata": {},
   "outputs": [
    {
     "name": "stdout",
     "output_type": "stream",
     "text": [
      "[3.14, 'cat', 11, 'cat', True, 99]\n",
      "[3.14, 11, 'cat', True, 99]\n"
     ]
    }
   ],
   "source": [
    "print(bacon)\n",
    "bacon.remove('cat')\n",
    "print(bacon)"
   ]
  },
  {
   "cell_type": "markdown",
   "id": "191303ef",
   "metadata": {},
   "source": [
    "**9. What are the list concatenation and list replication operators?**"
   ]
  },
  {
   "cell_type": "markdown",
   "id": "3f308fbb",
   "metadata": {},
   "source": [
    "The operator for list concatenation is +, while the operator for replication is *. (This is the same as for strings.)"
   ]
  },
  {
   "cell_type": "code",
   "execution_count": 14,
   "id": "49f4b735",
   "metadata": {},
   "outputs": [
    {
     "name": "stdout",
     "output_type": "stream",
     "text": [
      "['A', 'B', 'C', 'D', 'E', 'F', 'G', 'H']\n",
      "['F', 'G', 'H', 'F', 'G', 'H']\n"
     ]
    }
   ],
   "source": [
    "list_1 = ['A','B','C','D','E']\n",
    "list_2 = ['F','G','H']\n",
    "print(list_1 + list_2) # List Concatenation\n",
    "print(list_2*2) # List Replication"
   ]
  },
  {
   "cell_type": "markdown",
   "id": "2c9bfeb6",
   "metadata": {},
   "source": [
    "**10. What is difference between the list methods append() and insert()?**"
   ]
  },
  {
   "cell_type": "markdown",
   "id": "41509a76",
   "metadata": {},
   "source": [
    "While append() will add values only to the end of a list, insert() can add them anywhere in the list."
   ]
  },
  {
   "cell_type": "code",
   "execution_count": 16,
   "id": "5fede8bf",
   "metadata": {},
   "outputs": [
    {
     "name": "stdout",
     "output_type": "stream",
     "text": [
      "[7, 8, 9, 5, 4, 6]\n",
      "[7, 8, 'sudh', 9, 5, 4, 6]\n"
     ]
    }
   ],
   "source": [
    "list = [7,8,9,5,4]\n",
    "list.append(6)\n",
    "print(list)\n",
    "list.insert(2,'sudh')\n",
    "print(list)"
   ]
  },
  {
   "cell_type": "markdown",
   "id": "3b000d29",
   "metadata": {},
   "source": [
    "**11. What are the two methods for removing items from a list?**"
   ]
  },
  {
   "cell_type": "raw",
   "id": "f89d7045",
   "metadata": {},
   "source": [
    "The del statement and the remove() method are two ways to remove values from a list"
   ]
  },
  {
   "cell_type": "markdown",
   "id": "42e0c1de",
   "metadata": {},
   "source": [
    "**12. Describe how list values and string values are identical.**"
   ]
  },
  {
   "cell_type": "raw",
   "id": "41161dd8",
   "metadata": {},
   "source": [
    "*Both lists and strings can be passed to len() function\n",
    "*Both have indexes and slices,\n",
    "*both can be used in for loops, \n",
    "*both can be concatenated or replicated, \n",
    "*and both be used with the in and not in operators."
   ]
  },
  {
   "cell_type": "markdown",
   "id": "bdd5ec5a",
   "metadata": {},
   "source": [
    "**13. What's the difference between tuples and lists?**"
   ]
  },
  {
   "cell_type": "code",
   "execution_count": null,
   "id": "ab5c35b3",
   "metadata": {},
   "outputs": [],
   "source": [
    "*Lists are Mutable, Indexable and Slicable. \n",
    "*they can have values added, removed, or changed. \n",
    "*Tuples are Immutable but Indexable and Slicable. \n",
    "*the tuple values cannot be changed at all. Also, tuples are represented using parentheses, ().\n",
    "*while lists use the square brackets, []."
   ]
  },
  {
   "cell_type": "markdown",
   "id": "28befb08",
   "metadata": {},
   "source": [
    "**14. How do you type a tuple value that only contains the integer 42?**"
   ]
  },
  {
   "cell_type": "code",
   "execution_count": 17,
   "id": "7a623504",
   "metadata": {},
   "outputs": [],
   "source": [
    "a = (42,)"
   ]
  },
  {
   "cell_type": "code",
   "execution_count": 18,
   "id": "7436fb32",
   "metadata": {},
   "outputs": [
    {
     "name": "stdout",
     "output_type": "stream",
     "text": [
      "<class 'tuple'>\n"
     ]
    }
   ],
   "source": [
    "print(type(a))"
   ]
  },
  {
   "cell_type": "markdown",
   "id": "2b6d594e",
   "metadata": {},
   "source": [
    "**15. How do you get a list value&#39;s tuple form? How do you get a tuple value&#39;s list form?**"
   ]
  },
  {
   "cell_type": "raw",
   "id": "0d1c01c5",
   "metadata": {},
   "source": [
    "The tuple() and list() functions, respectively are used to convert a list to tuple and vice versa"
   ]
  },
  {
   "cell_type": "markdown",
   "id": "9127db9c",
   "metadata": {},
   "source": [
    "**16. Variables that \"contain\" list values are not necessarily lists themselves. Instead, what do they\n",
    "contain?**"
   ]
  },
  {
   "cell_type": "raw",
   "id": "b981babe",
   "metadata": {},
   "source": [
    "They contain references to lists"
   ]
  },
  {
   "cell_type": "markdown",
   "id": "c0fda8d5",
   "metadata": {},
   "source": [
    "**17. How do you distinguish between copy.copy() and copy.deepcopy()?**"
   ]
  },
  {
   "cell_type": "raw",
   "id": "df540c89",
   "metadata": {},
   "source": [
    "* Deep copy() - creates a diff obj and populates it with the child obj's of the original obj.\n",
    "* Shallow copy() - creates a dif obj and populates it with the references of the child obj's within the original object."
   ]
  }
 ],
 "metadata": {
  "kernelspec": {
   "display_name": "Python 3 (ipykernel)",
   "language": "python",
   "name": "python3"
  },
  "language_info": {
   "codemirror_mode": {
    "name": "ipython",
    "version": 3
   },
   "file_extension": ".py",
   "mimetype": "text/x-python",
   "name": "python",
   "nbconvert_exporter": "python",
   "pygments_lexer": "ipython3",
   "version": "3.9.12"
  }
 },
 "nbformat": 4,
 "nbformat_minor": 5
}
