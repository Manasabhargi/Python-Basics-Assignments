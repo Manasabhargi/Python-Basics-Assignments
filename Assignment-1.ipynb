{
 "cells": [
  {
   "cell_type": "markdown",
   "id": "e3c2ac1e",
   "metadata": {},
   "source": [
    "1. In the below elements which of them are values or an expression? eg:- values can be\n",
    "integer or string and expressions will be mathematical operators.\n"
   ]
  },
  {
   "cell_type": "raw",
   "id": "3811617c",
   "metadata": {},
   "source": [
    "* ----> expression(operator)\n",
    "\n",
    "'hello' ----> values\n",
    "\n",
    "-87.8 ----> value (unary operator)\n",
    "\n",
    "- ----> expression(operator)\n",
    "\n",
    "/ ----> expression(operator)\n",
    "\n",
    "   + ----> expression(operator)\n",
    "    \n",
    "6 ----> values    "
   ]
  },
  {
   "cell_type": "markdown",
   "id": "b958a1b2",
   "metadata": {},
   "source": [
    "2. What is the difference between string and variable?"
   ]
  },
  {
   "cell_type": "raw",
   "id": "d95a39ac",
   "metadata": {},
   "source": [
    "variable ----> variables are symbols that are used to store data or value in a program\n",
    "\n",
    "Strings ----> Strings are type of character data which are used to store in a variable called as string variable"
   ]
  },
  {
   "cell_type": "markdown",
   "id": "190567b7",
   "metadata": {},
   "source": [
    "3. Describe three different data types."
   ]
  },
  {
   "cell_type": "code",
   "execution_count": null,
   "id": "e415162a",
   "metadata": {},
   "outputs": [],
   "source": [
    "Buit-in datatypes of python are:\n",
    "    * Numeric\n",
    "    * Sequence type\n",
    "    * Boolean\n",
    "    * Set\n",
    "    * Dictionary\n",
    "    \n",
    "Numeric data type represent data which has numeric value. Integers, Floating point numbers and complex numbers fall under \n",
    "Python Numeric category. These values are defined as int, float and complex class in python.\n",
    "\n",
    "1.Integers --> It comprises of positive or negative whole numbers. In int class there is no limitation for the length \n",
    "            but limitation is there for memory. (ex: 1)\n",
    "    \n",
    "2.Float --> It is a real number represented by decimal point. (ex: 1.0)  \n",
    "\n",
    "3.Complex --> complex numbers are represented by x+yj,where x is real part and y is imaginary part. Python supports complex data type as built-in feature."
   ]
  },
  {
   "cell_type": "markdown",
   "id": "c26889fe",
   "metadata": {},
   "source": [
    "4. What is an expression made up of? What do all expressions do?"
   ]
  },
  {
   "cell_type": "raw",
   "id": "fd7d6042",
   "metadata": {},
   "source": [
    "Expressions are made up of operands and operators that are interpreted to produce some other value.\n",
    "Expressions evaluates to a single value and in another terms they are representation of value.\n",
    "example :- c = a + b - 5"
   ]
  },
  {
   "cell_type": "markdown",
   "id": "9a2f9bec",
   "metadata": {},
   "source": [
    "5. This assignment statements, like spam = 10. What is the difference between an\n",
    "expression and a statement?"
   ]
  },
  {
   "cell_type": "raw",
   "id": "8935302b",
   "metadata": {},
   "source": [
    "Expression is made up of values, containers, and mathematical operators (operands) and the statement is just like a command that a python interpreter executes."
   ]
  },
  {
   "cell_type": "markdown",
   "id": "853d9def",
   "metadata": {},
   "source": [
    "6. After running the following code, what does the variable bacon contain?\n",
    "bacon = 22\n",
    "bacon + 1"
   ]
  },
  {
   "cell_type": "code",
   "execution_count": 2,
   "id": "e34dc538",
   "metadata": {},
   "outputs": [],
   "source": [
    "bacon = 22"
   ]
  },
  {
   "cell_type": "code",
   "execution_count": 3,
   "id": "74d5014d",
   "metadata": {},
   "outputs": [
    {
     "data": {
      "text/plain": [
       "23"
      ]
     },
     "execution_count": 3,
     "metadata": {},
     "output_type": "execute_result"
    }
   ],
   "source": [
    "bacon + 1"
   ]
  },
  {
   "cell_type": "markdown",
   "id": "b4fcdec0",
   "metadata": {},
   "source": [
    "7. What should the values of the following two terms be?\n"
   ]
  },
  {
   "cell_type": "code",
   "execution_count": 4,
   "id": "cb949915",
   "metadata": {},
   "outputs": [
    {
     "data": {
      "text/plain": [
       "'spamspamspam'"
      ]
     },
     "execution_count": 4,
     "metadata": {},
     "output_type": "execute_result"
    }
   ],
   "source": [
    "'spam' + 'spamspam'"
   ]
  },
  {
   "cell_type": "code",
   "execution_count": 5,
   "id": "024b83bd",
   "metadata": {},
   "outputs": [
    {
     "data": {
      "text/plain": [
       "'spamspamspam'"
      ]
     },
     "execution_count": 5,
     "metadata": {},
     "output_type": "execute_result"
    }
   ],
   "source": [
    "'spam' * 3"
   ]
  },
  {
   "cell_type": "markdown",
   "id": "29911619",
   "metadata": {},
   "source": [
    "8.Why is eggs a valid variable name while 100 is invalid?"
   ]
  },
  {
   "cell_type": "raw",
   "id": "7761a5a6",
   "metadata": {},
   "source": [
    "because as per the variable declaration rules variable name should begin with alphabets or _.\n",
    "It can not start with integers. And variable name can not be a integer so 100 is invalid and eggs is valid."
   ]
  },
  {
   "cell_type": "markdown",
   "id": "164afb53",
   "metadata": {},
   "source": [
    "9.What three functions can be used to get the integer, floating-point number, or string\n",
    "version of a value?"
   ]
  },
  {
   "cell_type": "markdown",
   "id": "c36c42d5",
   "metadata": {},
   "source": [
    "* integer = int()\n",
    "* floating point number = float()\n",
    "* string = str()"
   ]
  },
  {
   "cell_type": "raw",
   "id": "473e36c5",
   "metadata": {},
   "source": [
    "10. Why does this expression cause an error? How can you fix it?"
   ]
  },
  {
   "cell_type": "code",
   "execution_count": 6,
   "id": "a12d6b1e",
   "metadata": {},
   "outputs": [
    {
     "ename": "TypeError",
     "evalue": "can only concatenate str (not \"int\") to str",
     "output_type": "error",
     "traceback": [
      "\u001b[1;31m---------------------------------------------------------------------------\u001b[0m",
      "\u001b[1;31mTypeError\u001b[0m                                 Traceback (most recent call last)",
      "Input \u001b[1;32mIn [6]\u001b[0m, in \u001b[0;36m<cell line: 1>\u001b[1;34m()\u001b[0m\n\u001b[1;32m----> 1\u001b[0m \u001b[38;5;124;43m'\u001b[39;49m\u001b[38;5;124;43mI have eaten\u001b[39;49m\u001b[38;5;124;43m'\u001b[39;49m\u001b[43m \u001b[49m\u001b[38;5;241;43m+\u001b[39;49m\u001b[43m \u001b[49m\u001b[38;5;241;43m99\u001b[39;49m \u001b[38;5;241m+\u001b[39m \u001b[38;5;124m'\u001b[39m\u001b[38;5;124mburritos\u001b[39m\u001b[38;5;124m'\u001b[39m\n",
      "\u001b[1;31mTypeError\u001b[0m: can only concatenate str (not \"int\") to str"
     ]
    }
   ],
   "source": [
    " 'I have eaten' + 99 + 'burritos'"
   ]
  },
  {
   "cell_type": "raw",
   "id": "f88f6bf5",
   "metadata": {},
   "source": [
    "we can concatenate only strings but not integer to string so the above expression throws an error."
   ]
  },
  {
   "cell_type": "code",
   "execution_count": null,
   "id": "d784e9a2",
   "metadata": {},
   "outputs": [],
   "source": []
  }
 ],
 "metadata": {
  "kernelspec": {
   "display_name": "Python 3 (ipykernel)",
   "language": "python",
   "name": "python3"
  },
  "language_info": {
   "codemirror_mode": {
    "name": "ipython",
    "version": 3
   },
   "file_extension": ".py",
   "mimetype": "text/x-python",
   "name": "python",
   "nbconvert_exporter": "python",
   "pygments_lexer": "ipython3",
   "version": "3.9.12"
  }
 },
 "nbformat": 4,
 "nbformat_minor": 5
}
